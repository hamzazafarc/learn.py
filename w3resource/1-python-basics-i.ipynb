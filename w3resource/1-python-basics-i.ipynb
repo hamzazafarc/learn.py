{
 "cells": [
  {
   "cell_type": "markdown",
   "id": "c4d940f3",
   "metadata": {},
   "source": [
    "# 1. Formatted Twinkle Poem\n",
    "\n",
    "Write a Python program to print the following string in a specific format (see the output).\n",
    "Sample String : \"Twinkle, twinkle, little star, How I wonder what you are! Up above the world so high, Like a diamond in the sky. Twinkle, twinkle, little star, How I wonder what you are\"  \n",
    "\n",
    "Output:\n",
    "```\n",
    "Twinkle, twinkle, little star,\n",
    "\tHow I wonder what you are!\n",
    "\t\tUp above the world so high,\n",
    "\t\tLike a diamond in the sky.\n",
    "Twinkle, twinkle, little star,\n",
    "\tHow I wonder what you are\n",
    "```"
   ]
  },
  {
   "cell_type": "code",
   "execution_count": 2,
   "id": "7846d2c1",
   "metadata": {},
   "outputs": [
    {
     "name": "stdout",
     "output_type": "stream",
     "text": [
      "Twinkle, twinkle, little star,\n",
      "\tHow I wonder what you are!\n",
      "\t\tUp above the world so high,\n",
      "\t\tLike a diamond in the sky\n",
      "Twinkle, twinkle, little star,\n",
      "\tHow I wonder what you are!\n"
     ]
    }
   ],
   "source": [
    "print(\n",
    "    \"Twinkle, twinkle, little star,\",\n",
    "    \"\\tHow I wonder what you are!\",\n",
    "    \"\\t\\tUp above the world so high,\",\n",
    "    \"\\t\\tLike a diamond in the sky\",\n",
    "    \"Twinkle, twinkle, little star,\",\n",
    "    \"\\tHow I wonder what you are!\",\n",
    "    sep='\\n'\n",
    ")"
   ]
  },
  {
   "cell_type": "markdown",
   "id": "7066e459",
   "metadata": {},
   "source": [
    "# 2. Python Version Checker\n",
    "\n",
    "Write a Python program to find out what version of Python you are using."
   ]
  },
  {
   "cell_type": "code",
   "execution_count": 5,
   "id": "2baf1e1b",
   "metadata": {},
   "outputs": [
    {
     "name": "stdout",
     "output_type": "stream",
     "text": [
      "3.13.5 | packaged by Anaconda, Inc. | (main, Jun 12 2025, 16:37:03) [MSC v.1929 64 bit (AMD64)]\n"
     ]
    }
   ],
   "source": [
    "from sys import version\n",
    "\n",
    "print(version)"
   ]
  },
  {
   "cell_type": "markdown",
   "id": "08c4e9cf",
   "metadata": {},
   "source": [
    "# 3. Current DateTime Display\n",
    "\n",
    "Write a Python program to display the current date and time.\n",
    "\n",
    "Sample Output:\n",
    "```\n",
    "Current date and time: 2014-07-05 14:34:14\n",
    "```"
   ]
  },
  {
   "cell_type": "code",
   "execution_count": 8,
   "id": "312d56c0",
   "metadata": {},
   "outputs": [
    {
     "name": "stdout",
     "output_type": "stream",
     "text": [
      "Current date and time: 2025-09-14 14:39:24\n"
     ]
    }
   ],
   "source": [
    "from datetime import datetime\n",
    "\n",
    "print('Current date and time:', datetime.now().strftime('%Y-%m-%d %H:%M:%S'))"
   ]
  },
  {
   "cell_type": "markdown",
   "id": "92cfd2ee",
   "metadata": {},
   "source": [
    "# 4. Circle Area Calculator\n",
    "\n",
    "Write a Python program that calculates the area of a circle based on the radius entered by the user.\n",
    "\n",
    "Sample Output:\n",
    "```\n",
    "r = 1.1\n",
    "Area = 3.8013271108436504\n",
    "```"
   ]
  },
  {
   "cell_type": "code",
   "execution_count": null,
   "id": "b411937e",
   "metadata": {},
   "outputs": [
    {
     "name": "stdout",
     "output_type": "stream",
     "text": [
      "Area = 3.8013271108436504\n"
     ]
    }
   ],
   "source": [
    "import math\n",
    "\n",
    "\n",
    "q_4_radius = float(input('Enter radius to calculate area: '))\n",
    "\n",
    "print('Area =', math.pi * (q_4_radius ** 2))"
   ]
  },
  {
   "cell_type": "markdown",
   "id": "2846ac8a",
   "metadata": {},
   "source": [
    "# 5. Reverse Full Name\n",
    "\n",
    "Write a Python program that accepts the user's first and last name and prints them in reverse order with a space between them.\n"
   ]
  },
  {
   "cell_type": "code",
   "execution_count": null,
   "id": "3493efd4",
   "metadata": {},
   "outputs": [
    {
     "name": "stdout",
     "output_type": "stream",
     "text": [
      "Zafar Hamza\n"
     ]
    }
   ],
   "source": [
    "q_5_fname = input(\"Enter first name: \")\n",
    "q_5_lname = input(\"Enter last name: \")\n",
    "\n",
    "print(f'{q_5_lname} {q_5_fname}')"
   ]
  },
  {
   "cell_type": "markdown",
   "id": "4ff50fc3",
   "metadata": {},
   "source": [
    "# 6. List and Tuple Generator\n",
    "\n",
    "Write a Python program that accepts a sequence of comma-separated numbers from the user and generates a list and a tuple of those numbers.\n",
    "\n",
    "Sample data: `3, 5, 7, 23`\n",
    "\n",
    "Output:\n",
    "```\n",
    "List : ['3', ' 5', ' 7', ' 23']\n",
    "Tuple : ('3', ' 5', ' 7', ' 23')\n",
    "```"
   ]
  },
  {
   "cell_type": "code",
   "execution_count": null,
   "id": "f2ea9af9",
   "metadata": {},
   "outputs": [
    {
     "name": "stdout",
     "output_type": "stream",
     "text": [
      "List: ['3', '5', '7', '23']\n",
      "Tuple: ('3', '5', '7', '23')\n"
     ]
    }
   ],
   "source": [
    "q_6_list_input = input('Enter series of numbers separated by comma:\\n')\n",
    "\n",
    "q_6_list = [number.strip() for number in q_6_list_input.split(',')]\n",
    "q_6_tuple = tuple(q_6_list)\n",
    "\n",
    "print('List:', q_6_list)\n",
    "print('Tuple:', q_6_tuple)"
   ]
  },
  {
   "cell_type": "markdown",
   "id": "320f0bbe",
   "metadata": {},
   "source": [
    "# 7. File Extension Extractor\n",
    "\n",
    "Write a Python program that accepts a filename from the user and prints the extension of the file.\n",
    "\n",
    "Sample filename : `abc.java`\n",
    "\n",
    "Output : `java`"
   ]
  },
  {
   "cell_type": "code",
   "execution_count": null,
   "id": "749ef7fc",
   "metadata": {},
   "outputs": [
    {
     "name": "stdout",
     "output_type": "stream",
     "text": [
      "ts\n"
     ]
    }
   ],
   "source": [
    "q_7_filename = input('Enter filename: ')\n",
    "\n",
    "print(q_7_filename.split('.')[-1])"
   ]
  },
  {
   "cell_type": "markdown",
   "id": "74c21bfd",
   "metadata": {},
   "source": [
    "# 8. First and Last Colors\n",
    "\n",
    "Write a Python program to display the first and last colors from the following list.\n",
    "\n",
    "```py\n",
    "color_list = [\"Red\",\"Green\",\"White\" ,\"Black\"]\n",
    "```"
   ]
  },
  {
   "cell_type": "code",
   "execution_count": 17,
   "id": "31c87eb9",
   "metadata": {},
   "outputs": [
    {
     "name": "stdout",
     "output_type": "stream",
     "text": [
      "Red Black\n"
     ]
    }
   ],
   "source": [
    "q_8_color_list = [\"Red\", \"Green\", \"White\", \"Black\"]\n",
    "\n",
    "print(q_8_color_list[0], q_8_color_list[-1])"
   ]
  },
  {
   "cell_type": "markdown",
   "id": "9352b421",
   "metadata": {},
   "source": [
    "# 9. Exam Schedule Formatter\n",
    "\n",
    "Write a Python program to display the examination schedule. (extract the date from exam_st_date).\n",
    "\n",
    "```py\n",
    "exam_st_date = (11, 12, 2014)\n",
    "```\n",
    "\n",
    "Sample Output :\n",
    "```\n",
    "The examination will start from : 11 / 12 / 2014\n",
    "```"
   ]
  },
  {
   "cell_type": "code",
   "execution_count": 19,
   "id": "efdf8136",
   "metadata": {},
   "outputs": [
    {
     "name": "stdout",
     "output_type": "stream",
     "text": [
      "The examination will start from: 11/12/2014\n"
     ]
    }
   ],
   "source": [
    "exam_st_date = (11, 12, 2014)\n",
    "\n",
    "print('The examination will start from: %i/%i/%i' % exam_st_date)"
   ]
  },
  {
   "cell_type": "markdown",
   "id": "31faeaca",
   "metadata": {},
   "source": [
    "# 10. Number Expansion Calculator\n",
    "\n",
    "Write a Python program that accepts an integer (n) and computes the value of n+nn+nnn.\n",
    "\n",
    "Sample value of n is `5`\n",
    "\n",
    "Expected Result : `615`"
   ]
  },
  {
   "cell_type": "code",
   "execution_count": 20,
   "id": "18c8404f",
   "metadata": {},
   "outputs": [
    {
     "name": "stdout",
     "output_type": "stream",
     "text": [
      "615\n"
     ]
    }
   ],
   "source": [
    "q_8_n = int(input('Enter a number: '))\n",
    "\n",
    "print(int(f'{q_8_n}') + int(f'{q_8_n}{q_8_n}') + int(f'{q_8_n}{q_8_n}{q_8_n}'))"
   ]
  }
 ],
 "metadata": {
  "kernelspec": {
   "display_name": "base",
   "language": "python",
   "name": "python3"
  },
  "language_info": {
   "codemirror_mode": {
    "name": "ipython",
    "version": 3
   },
   "file_extension": ".py",
   "mimetype": "text/x-python",
   "name": "python",
   "nbconvert_exporter": "python",
   "pygments_lexer": "ipython3",
   "version": "3.13.5"
  }
 },
 "nbformat": 4,
 "nbformat_minor": 5
}
